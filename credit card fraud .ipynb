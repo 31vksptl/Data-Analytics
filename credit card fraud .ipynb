{
 "cells": [
  {
   "cell_type": "code",
   "execution_count": 30,
   "metadata": {},
   "outputs": [
    {
     "name": "stderr",
     "output_type": "stream",
     "text": [
      "C:\\Users\\Vikas Patel\\anaconda3\\lib\\site-packages\\sklearn\\linear_model\\_logistic.py:940: ConvergenceWarning: lbfgs failed to converge (status=1):\n",
      "STOP: TOTAL NO. of ITERATIONS REACHED LIMIT.\n",
      "\n",
      "Increase the number of iterations (max_iter) or scale the data as shown in:\n",
      "    https://scikit-learn.org/stable/modules/preprocessing.html\n",
      "Please also refer to the documentation for alternative solver options:\n",
      "    https://scikit-learn.org/stable/modules/linear_model.html#logistic-regression\n",
      "  extra_warning_msg=_LOGISTIC_SOLVER_CONVERGENCE_MSG)\n"
     ]
    },
    {
     "name": "stdout",
     "output_type": "stream",
     "text": [
      "[[99448    55]\n",
      " [   55   125]]\n",
      "0.998896501911058\n",
      "              precision    recall  f1-score   support\n",
      "\n",
      "           0       1.00      1.00      1.00     99503\n",
      "           1       0.69      0.69      0.69       180\n",
      "\n",
      "    accuracy                           1.00     99683\n",
      "   macro avg       0.85      0.85      0.85     99683\n",
      "weighted avg       1.00      1.00      1.00     99683\n",
      "\n"
     ]
    }
   ],
   "source": [
    "import pandas as pd\n",
    "import numpy as np\n",
    "import seaborn as sns\n",
    "import matplotlib.pyplot as plt\n",
    "\n",
    "data= pd.read_csv(r'C:\\Users\\Vikas Patel\\Downloads\\creditcard.csv')\n",
    "\n",
    "data.head()\n",
    "\n",
    "fraud = data.loc[data['Class'] == 1]\n",
    "regular = data.loc[data['Class'] == 0]\n",
    "\n",
    "from sklearn import linear_model\n",
    "from sklearn.model_selection import train_test_split\n",
    "\n",
    "x = data.iloc[:,:-1]\n",
    "y = data['Class']\n",
    "\n",
    "x_train, x_test, y_train, y_test = train_test_split(x,y,test_size = .35)\n",
    "\n",
    "clf = linear_model.LogisticRegression(C=1e5)\n",
    "\n",
    "clf.fit(x_train, y_train)\n",
    "\n",
    "y_predict = np.array(clf.predict(x_test))\n",
    "y = np.array(y_test)\n",
    "\n",
    "from sklearn.metrics import confusion_matrix, classification_report, accuracy_score\n",
    "\n",
    "print(confusion_matrix(y_test,y_predict ))\n",
    "\n",
    "print(accuracy_score(y_test, y_predict))\n",
    "\n",
    "print(classification_report(y_test,y_predict))\n"
   ]
  }
 ],
 "metadata": {
  "kernelspec": {
   "display_name": "Python 3",
   "language": "python",
   "name": "python3"
  },
  "language_info": {
   "codemirror_mode": {
    "name": "ipython",
    "version": 3
   },
   "file_extension": ".py",
   "mimetype": "text/x-python",
   "name": "python",
   "nbconvert_exporter": "python",
   "pygments_lexer": "ipython3",
   "version": "3.7.6"
  }
 },
 "nbformat": 4,
 "nbformat_minor": 4
}
